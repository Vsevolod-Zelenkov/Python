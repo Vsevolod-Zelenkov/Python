{
 "cells": [
  {
   "cell_type": "code",
   "execution_count": 21,
   "id": "a82adcb1",
   "metadata": {},
   "outputs": [
    {
     "name": "stdout",
     "output_type": "stream",
     "text": [
      "Task 1. Name: Michelle\n",
      "Month salary: 5000\n",
      "Michelle's annual salary is 60 thousand dollars.\n"
     ]
    }
   ],
   "source": [
    "# 1. Request the user's name and monthly salary in dollars and print their annual salary in thousands of dollars.\n",
    "    # For example: \"Michelle\", \"12345\" → \"Michelle's annual salary is 148 thousand dollars\".\n",
    "\n",
    "name = input(\"Task 1. Name: \")\n",
    "month_salary = float(input(\"Month salary: \"))\n",
    "print(name + \"'s annual salary is \" + str(round(month_salary * 12 / 1000)) + \" thousand dollars.\")"
   ]
  },
  {
   "cell_type": "code",
   "execution_count": 4,
   "id": "1704d6f4",
   "metadata": {},
   "outputs": [
    {
     "name": "stdout",
     "output_type": "stream",
     "text": [
      "Task 2. Number: 450\n",
      "True\n"
     ]
    }
   ],
   "source": [
    "# 2. Request an integer and print \"True\" if it is an even number between 100 and 999, otherwise print \"False\".\n",
    "\n",
    "num_1 = int(input(\"Task 2. Number: \"))\n",
    "if (num_1 % 2 == 0) and (100 <= num_1 < 1000):\n",
    "    print(bool(1))\n",
    "else:\n",
    "    print(bool(0))"
   ]
  },
  {
   "cell_type": "code",
   "execution_count": 27,
   "id": "5363791e",
   "metadata": {},
   "outputs": [
    {
     "name": "stdout",
     "output_type": "stream",
     "text": [
      "Task 3.v1 Number: 357\n",
      "753\n"
     ]
    }
   ],
   "source": [
    "# 3. Let's take an integer as the input;\n",
    "    # Assume it is a number between 101 and 999, and its last digit is not zero.\n",
    "    # Output an inverse number.\n",
    "    # For example: 256 → 652.\n",
    "\n",
    "# 3.v1\n",
    "num_2 = int(input(\"Task 3.v1 Number: \"))\n",
    "print(int(list((str(num_2)))[-1] + \n",
    "          list((str(num_2)))[-2] + \n",
    "          list((str(num_2)))[-3]))"
   ]
  },
  {
   "cell_type": "code",
   "execution_count": 28,
   "id": "5a788535",
   "metadata": {},
   "outputs": [
    {
     "name": "stdout",
     "output_type": "stream",
     "text": [
      "Task 3.v2 Number: 357.159\n",
      "951.753\n"
     ]
    }
   ],
   "source": [
    "# 3.v2\n",
    "num_5 = float(input(\"Task 3.v2 Number: \"))\n",
    "print(str(num_5)[::-1])"
   ]
  },
  {
   "cell_type": "code",
   "execution_count": 25,
   "id": "c1349ebf",
   "metadata": {},
   "outputs": [
    {
     "name": "stdout",
     "output_type": "stream",
     "text": [
      "Task 4. Number_1: 753\n",
      "Number_2: 357\n",
      "    a. addition: 1110\n",
      "    b. subtraction: 396\n",
      "    c. multiplication: 268821\n",
      "    d. floor division: 2\n",
      "    e. modulus: 39\n",
      "    f. True\n"
     ]
    }
   ],
   "source": [
    "# 4. Request two integers and print:\n",
    "    # a. Their sum\n",
    "    # b. Their difference\n",
    "    # c. Their multiplication\n",
    "    # d. The result of dividing the first by the second\n",
    "    # e. Remainder of the first divided by the second\n",
    "    # f. \"True\" if the first number is greater than or equal to the second, otherwise \"False\".\n",
    "\n",
    "num_3 = int(input(\"Task 4. Number_1: \"))\n",
    "num_4 = int(input(\"Number_2: \"))\n",
    "print(\"    a. addition: \" + str(num_3 + num_4),\n",
    "      \"    b. subtraction: \" + str(num_3 - num_4),\n",
    "      \"    c. multiplication: \" + str(num_3 * num_4),\n",
    "      \"    d. floor division: \" + str(num_3 // num_4),\n",
    "      \"    e. modulus: \" + str(num_3 % num_4), sep='\\n')\n",
    "if num_3 >= num_4:\n",
    "    print(\"    f. \" + str(bool(1)))\n",
    "else:\n",
    "    print(\"    f. \" + str(bool(0)))"
   ]
  }
 ],
 "metadata": {
  "kernelspec": {
   "display_name": "Python 3 (ipykernel)",
   "language": "python",
   "name": "python3"
  },
  "language_info": {
   "codemirror_mode": {
    "name": "ipython",
    "version": 3
   },
   "file_extension": ".py",
   "mimetype": "text/x-python",
   "name": "python",
   "nbconvert_exporter": "python",
   "pygments_lexer": "ipython3",
   "version": "3.10.4"
  }
 },
 "nbformat": 4,
 "nbformat_minor": 5
}
