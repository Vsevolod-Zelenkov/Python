{
 "cells": [
  {
   "cell_type": "code",
   "execution_count": 2,
   "id": "2ff1e3fc",
   "metadata": {},
   "outputs": [],
   "source": [
    "# 1. В классе профессора Грубла только что был экзамен.\n",
    "    # Напишите программу, которая принимает в качестве входящих данных оценку каждого ученика и то, сдал ли он экзамен.\n",
    "    # Затем программе необходимо напечатать две вещи:\n",
    "        # a. Был ли профессор Грубл последовательным в проставлении отметки “Passed” для студентов.\n",
    "        # b. Если профессор Грубл был последовательным, выведите диапазон, в котором находится порог для сдачи экзамена.\n",
    "\n",
    "def Exam(numb_of_students = 6):\n",
    "    \"\"\"This is Exam\"\"\"\n",
    "    \n",
    "    list_of_students = []\n",
    "    marks_of_students = []\n",
    "    professors_note = []\n",
    "    marks_of_students_with_f_note = []\n",
    "    marks_of_students_with_p_note = []\n",
    "    import time\n",
    "\n",
    "    for i in range(1, numb_of_students + 1):\n",
    "        student = input(\"Name for student %s: \" % i)\n",
    "        mark = int(input(\"Mark for this student: \"))\n",
    "        note = input(\"Professors note for this student ('f'- failed or 'p'- passed): \")\n",
    "        list_of_students.append(student)\n",
    "        marks_of_students.append(mark)\n",
    "        professors_note.append(note)\n",
    "        if note == \"f\":\n",
    "            marks_of_students_with_f_note.append(mark)\n",
    "        elif note == \"p\":\n",
    "            marks_of_students_with_p_note.append(mark)\n",
    "        time.sleep(1)\n",
    "        \n",
    "    final_list = list(zip(list_of_students, marks_of_students, professors_note))\n",
    "    print(\"STUDENT\", \"MARK\", \"PROFESSORS NOTE\", sep='\\t\\t')\n",
    "    for element in final_list:\n",
    "        print(*element, sep='\\t\\t')\n",
    "        \n",
    "    if len(marks_of_students_with_p_note) == 0:\n",
    "        print(\"Professor Gruble was consistent in marking 'f'- failed for students.\",\n",
    "              \"And the range for passing the exam is somewhere after \" +\n",
    "              str(max(marks_of_students_with_f_note)) + \".\", sep='\\n')\n",
    "    elif len(marks_of_students_with_f_note) == 0:\n",
    "        print(\"Professor Gruble was consistent in marking 'p'- passed for students.\",\n",
    "              \"And mark \" + str(min(marks_of_students_with_p_note)) +\n",
    "              \" is already in range for passing the exam.\", sep='\\n')\n",
    "    else: \n",
    "        if min(marks_of_students_with_p_note) <= max(marks_of_students_with_f_note):\n",
    "            print(\"Professor Gruble was not consistent in marking 'p'- passed for students.\")\n",
    "        elif min(marks_of_students_with_p_note) - max(marks_of_students_with_f_note) == 1:\n",
    "            print(\"Professor Gruble was consistent in marking 'p'- passed for students.\",\n",
    "                  \"And mark \" + str(min(marks_of_students_with_p_note)) +\n",
    "                  \" is already in range for passing the exam.\", sep='\\n')\n",
    "        else:\n",
    "            print(\"Professor Gruble was consistent in marking 'p'- passed for students.\",\n",
    "                  \"And the range for passing the exam is from \" +\n",
    "                  str(max(marks_of_students_with_f_note) + 1) + \" to \" +\n",
    "                  str(min(marks_of_students_with_p_note)) + \".\", sep='\\n')"
   ]
  },
  {
   "cell_type": "code",
   "execution_count": 4,
   "id": "e8248ad2",
   "metadata": {},
   "outputs": [
    {
     "name": "stdout",
     "output_type": "stream",
     "text": [
      "Input the number of students: 3\n",
      "Name for student 1: 1\n",
      "Mark for this student: 15\n",
      "Professors note for this student ('f'- failed or 'p'- passed): f\n",
      "Name for student 2: 2\n",
      "Mark for this student: 20\n",
      "Professors note for this student ('f'- failed or 'p'- passed): p\n",
      "Name for student 3: 3\n",
      "Mark for this student: 25\n",
      "Professors note for this student ('f'- failed or 'p'- passed): f\n",
      "STUDENT\t\tMARK\t\tPROFESSORS NOTE\n",
      "1\t\t15\t\tf\n",
      "2\t\t20\t\tp\n",
      "3\t\t25\t\tf\n",
      "Professor Gruble was not consistent in marking 'p'- passed for students.\n"
     ]
    }
   ],
   "source": [
    "Exam(int(input(\"Input the number of students: \")))"
   ]
  },
  {
   "cell_type": "code",
   "execution_count": 37,
   "id": "c1d58a05",
   "metadata": {},
   "outputs": [
    {
     "name": "stdout",
     "output_type": "stream",
     "text": [
      "Input the number of students: 5\n",
      "Name for student 1: 1\n",
      "Mark for this student: 84\n",
      "Professors note for this student ('f'- failed or 'p'- passed): p\n",
      "Name for student 2: 2\n",
      "Mark for this student: 78\n",
      "Professors note for this student ('f'- failed or 'p'- passed): p\n",
      "Name for student 3: 3\n",
      "Mark for this student: 65\n",
      "Professors note for this student ('f'- failed or 'p'- passed): f\n",
      "Name for student 4: 4\n",
      "Mark for this student: 90\n",
      "Professors note for this student ('f'- failed or 'p'- passed): p\n",
      "Name for student 5: 5\n",
      "Mark for this student: 72\n",
      "Professors note for this student ('f'- failed or 'p'- passed): f\n",
      "STUDENT\t\tMARK\t\tPROFESSORS NOTE\n",
      "1\t\t84\t\tp\n",
      "2\t\t78\t\tp\n",
      "3\t\t65\t\tf\n",
      "4\t\t90\t\tp\n",
      "5\t\t72\t\tf\n",
      "Professor Gruble was consistent in marking 'p'- passed for students.\n",
      "And the range for passing the exam is from 73 to 78.\n"
     ]
    }
   ],
   "source": [
    "Exam(int(input(\"Input the number of students: \")))"
   ]
  }
 ],
 "metadata": {
  "kernelspec": {
   "display_name": "Python 3 (ipykernel)",
   "language": "python",
   "name": "python3"
  },
  "language_info": {
   "codemirror_mode": {
    "name": "ipython",
    "version": 3
   },
   "file_extension": ".py",
   "mimetype": "text/x-python",
   "name": "python",
   "nbconvert_exporter": "python",
   "pygments_lexer": "ipython3",
   "version": "3.10.4"
  }
 },
 "nbformat": 4,
 "nbformat_minor": 5
}
