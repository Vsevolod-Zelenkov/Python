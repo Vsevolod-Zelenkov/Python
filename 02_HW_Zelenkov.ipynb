{
 "cells": [
  {
   "cell_type": "code",
   "execution_count": 1,
   "id": "2f3f1ee4",
   "metadata": {},
   "outputs": [
    {
     "name": "stdout",
     "output_type": "stream",
     "text": [
      "Task 1. number: 360\n",
      "ham\n"
     ]
    }
   ],
   "source": [
    "# 1. В качестве входящих данных запросите целое число. \n",
    "    # Если оно делится на 3, выведите «foo»; \n",
    "    # если оно делится на 5, выведите «bar»; \n",
    "    # если оно делится на оба, выведите «ham» (а не «foo» или «bar»).\n",
    "    \n",
    "num_1 = int(input(\"Task 1. number: \"))\n",
    "if num_1 % 3 == 0 and num_1 % 5 == 0:\n",
    "    print(\"ham\")\n",
    "elif num_1 % 3 == 0:\n",
    "    print(\"foo\")\n",
    "elif num_1 % 5 == 0:\n",
    "    print(\"bar\")\n",
    "else:\n",
    "    print(\"not divisible by 3 or 5 without remainder\")"
   ]
  },
  {
   "cell_type": "code",
   "execution_count": 2,
   "id": "8e073aef",
   "metadata": {},
   "outputs": [
    {
     "name": "stdout",
     "output_type": "stream",
     "text": [
      "Task 2.1 number_1: 48.9\n",
      "number_2: 12.3\n",
      "smaller: 12.3\n",
      "bigger: 48.9\n"
     ]
    }
   ],
   "source": [
    "# 2. В качестве входящих данных запросите два числа и выведите какое из них меньше и какое большее.\n",
    "\n",
    "# 2.1\n",
    "num_7 = float(input(\"Task 2.1 number_1: \"))\n",
    "num_8 = float(input(\"number_2: \"))\n",
    "list_2 = [num_7, num_8]\n",
    "if num_7 == num_8:\n",
    "    print(\"equal\")\n",
    "else:\n",
    "    print(\"smaller: \" + str(min(list_2)),\n",
    "          \"bigger: \" + str(max(list_2)), sep='\\n')"
   ]
  },
  {
   "cell_type": "code",
   "execution_count": 3,
   "id": "5540028f",
   "metadata": {},
   "outputs": [
    {
     "name": "stdout",
     "output_type": "stream",
     "text": [
      "Task 2.2 number_1: 45.7\n",
      "number_2: 458\n",
      "45.7 is smaller\n",
      "458.0 is bigger\n"
     ]
    }
   ],
   "source": [
    "# 2. В качестве входящих данных запросите два числа и выведите какое из них меньше и какое большее.\n",
    "\n",
    "# 2.2\n",
    "num_2 = float(input(\"Task 2.2 number_1: \"))\n",
    "num_3 = float(input(\"number_2: \"))\n",
    "if num_2 > num_3: \n",
    "    print(str(num_2) + \" is bigger\", str(num_3) + \" is smaller\", sep='\\n')\n",
    "elif num_2 < num_3:\n",
    "    print(str(num_2) + \" is smaller\", str(num_3) + \" is bigger\", sep='\\n')\n",
    "else:\n",
    "    print(\"equal\")"
   ]
  },
  {
   "cell_type": "code",
   "execution_count": 4,
   "id": "f8aa6472",
   "metadata": {},
   "outputs": [
    {
     "name": "stdout",
     "output_type": "stream",
     "text": [
      "Task 3. number_1: 44\n",
      "number_2: 55.888\n",
      "number_3: 7577.1\n",
      "min: 44.0\n",
      "avg: 2558.996\n",
      "max: 7577.1\n"
     ]
    }
   ],
   "source": [
    "# 3. В качестве входящих данных запросите три числа и выведите наименьшее, среднее и наибольшее. Предположим, все они разные.\n",
    "\n",
    "num_4 = float(input(\"Task 3. number_1: \"))\n",
    "num_5 = float(input(\"number_2: \"))\n",
    "num_6 = float(input(\"number_3: \"))\n",
    "list_1 = [num_4, num_5, num_6]\n",
    "print(\"min: \" + str(min(list_1)),\n",
    "      \"avg: \" + str(sum(list_1) / len(list_1)),\n",
    "      \"max: \" + str(max(list_1)), sep='\\n')"
   ]
  },
  {
   "cell_type": "code",
   "execution_count": 5,
   "id": "54e2de8a",
   "metadata": {},
   "outputs": [
    {
     "name": "stdout",
     "output_type": "stream",
     "text": [
      "Task 5. enter 'play' to start: play\n",
      "1\n",
      "2\n",
      "fizz\n",
      "4\n",
      "buzz\n",
      "fizz\n",
      "7\n",
      "8\n",
      "fizz\n",
      "buzz\n",
      "11\n",
      "fizz\n",
      "13\n",
      "14\n",
      "fizz buzz\n",
      "16\n",
      "17\n",
      "fizz\n",
      "19\n",
      "buzz\n",
      "fizz\n",
      "22\n",
      "23\n",
      "fizz\n",
      "buzz\n",
      "26\n",
      "fizz\n",
      "28\n",
      "29\n",
      "fizz buzz\n",
      "31\n",
      "32\n",
      "fizz\n",
      "34\n",
      "buzz\n",
      "fizz\n",
      "37\n",
      "38\n",
      "fizz\n",
      "buzz\n",
      "41\n",
      "fizz\n",
      "43\n",
      "44\n",
      "fizz buzz\n",
      "46\n",
      "47\n",
      "fizz\n",
      "49\n",
      "buzz\n",
      "fizz\n",
      "52\n",
      "53\n",
      "fizz\n",
      "buzz\n",
      "56\n",
      "fizz\n",
      "58\n",
      "59\n",
      "fizz buzz\n",
      "61\n",
      "62\n",
      "fizz\n",
      "64\n",
      "buzz\n",
      "fizz\n",
      "67\n",
      "68\n",
      "fizz\n",
      "buzz\n",
      "71\n",
      "fizz\n",
      "73\n",
      "74\n",
      "fizz buzz\n",
      "76\n",
      "77\n",
      "fizz\n",
      "79\n",
      "buzz\n",
      "fizz\n",
      "82\n",
      "83\n",
      "fizz\n",
      "buzz\n",
      "86\n",
      "fizz\n",
      "88\n",
      "89\n",
      "fizz buzz\n",
      "91\n",
      "92\n",
      "fizz\n",
      "94\n",
      "buzz\n",
      "fizz\n",
      "97\n",
      "98\n",
      "fizz\n",
      "buzz\n"
     ]
    }
   ],
   "source": [
    "# 4. Прочтите это объяснение list slicing - https://www.learnbyexample.org/python-list-slicing/\n",
    "# 5. Сыграйте в игру Fizz-Buzz: выведите все числа от 1 до 100: \n",
    "    # если число делится на 3, вместо числа выведите «fizz»; \n",
    "    # если оно делится на 5, вместо числа выведите “buzz”;\n",
    "    # если оно делится на оба, выведите «fizz buzz» вместо числа.\n",
    "\n",
    "start = input(\"Task 5. enter 'play' to start: \")\n",
    "if start == \"play\":    \n",
    "    for num in range(1, 101):\n",
    "        if num % 3 == 0 and num % 5 == 0:\n",
    "            print(\"fizz buzz\")\n",
    "        elif num % 3 == 0:\n",
    "            print(\"fizz\")\n",
    "        elif num % 5 == 0:\n",
    "            print(\"buzz\")\n",
    "        else:\n",
    "            print(num)\n",
    "else:\n",
    "    print(\"maybe next time\")"
   ]
  },
  {
   "cell_type": "code",
   "execution_count": 11,
   "id": "1baf5b60",
   "metadata": {},
   "outputs": [
    {
     "name": "stdout",
     "output_type": "stream",
     "text": [
      "Task 6. enter 'play' to start: playy\n",
      "maybe next time\n"
     ]
    }
   ],
   "source": [
    "# 6. Сыграйте в игру 7-boom: выведите все числа от 1 до 100; \n",
    "    # если число делится на 7 или содержит цифру 7, выведите “BOOM” вместо числа.\n",
    "\n",
    "start = input(\"Task 6. enter 'play' to start: \")\n",
    "if start == \"play\":\n",
    "    for num in range(1, 101):\n",
    "        if num % 7 == 0 or \"7\" in str(num):\n",
    "            print(\"BOOM\")\n",
    "        else:\n",
    "            print(num)\n",
    "else:\n",
    "    print(\"maybe next time\")"
   ]
  }
 ],
 "metadata": {
  "kernelspec": {
   "display_name": "Python 3 (ipykernel)",
   "language": "python",
   "name": "python3"
  },
  "language_info": {
   "codemirror_mode": {
    "name": "ipython",
    "version": 3
   },
   "file_extension": ".py",
   "mimetype": "text/x-python",
   "name": "python",
   "nbconvert_exporter": "python",
   "pygments_lexer": "ipython3",
   "version": "3.10.4"
  }
 },
 "nbformat": 4,
 "nbformat_minor": 5
}
