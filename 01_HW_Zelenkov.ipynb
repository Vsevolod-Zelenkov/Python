{
 "cells": [
  {
   "cell_type": "code",
   "execution_count": 10,
   "id": "a82adcb1",
   "metadata": {},
   "outputs": [
    {
     "name": "stdout",
     "output_type": "stream",
     "text": [
      "Task 1. name: Seva\n",
      "month_salary: 1500.2\n",
      "Seva's annual salary is 18 thousand dollars\n"
     ]
    }
   ],
   "source": [
    "# 1. Запросите у пользователя имя и месячную зарплату в долларах и выведите их годовую зарплату в тысячах долларов.\n",
    "    # Например: «Мишель», «12345» → «Годовая зарплата Мишель составляет 148 тыс. долларов».\n",
    "\n",
    "name = input(\"Task 1. name: \")\n",
    "month_salary = float(input(\"month_salary: \"))\n",
    "print(name + \"'s annual salary is \" + str(round(month_salary * 12 / 1000)) + \" thousand dollars\")"
   ]
  },
  {
   "cell_type": "code",
   "execution_count": 2,
   "id": "1704d6f4",
   "metadata": {},
   "outputs": [
    {
     "name": "stdout",
     "output_type": "stream",
     "text": [
      "Task 2. number: 500\n",
      "True\n"
     ]
    }
   ],
   "source": [
    "# 2. Запросите целое число и выведите «True», если это четное число в диапазоне от 100 до 999, в противном случае - «False».\n",
    "\n",
    "num_1 = int(input(\"Task 2. number: \"))\n",
    "if (num_1 % 2 == 0) and (100 <= num_1 < 1000):\n",
    "    print(bool(1))\n",
    "else:\n",
    "    print(bool(0))"
   ]
  },
  {
   "cell_type": "code",
   "execution_count": 6,
   "id": "5363791e",
   "metadata": {},
   "outputs": [
    {
     "name": "stdout",
     "output_type": "stream",
     "text": [
      "Task 3. number: 357\n",
      "753\n"
     ]
    }
   ],
   "source": [
    "# 3. В качестве входящих данных возьмем целое число;\n",
    "    # Предположим, что это число от 101 до 999, а его последняя цифра не равна нулю.\n",
    "    # Выведите обратное число.\n",
    "    # Например: 256 → 652.\n",
    "\n",
    "num_2 = int(input(\"Task 3. number: \"))\n",
    "print(int(list((str(num_2)))[-1] + \n",
    "          list((str(num_2)))[-2] + \n",
    "          list((str(num_2)))[-3]))"
   ]
  },
  {
   "cell_type": "code",
   "execution_count": 5,
   "id": "c1349ebf",
   "metadata": {},
   "outputs": [
    {
     "name": "stdout",
     "output_type": "stream",
     "text": [
      "Task 4. number_1: 753\n",
      "number_2: 357\n",
      "a. addition: 1110\n",
      "b. subtraction: 396\n",
      "c. multiplication: 268821\n",
      "d. floor division: 2\n",
      "e. modulus: 39\n",
      "f. True\n"
     ]
    }
   ],
   "source": [
    "# 4. Запросите два целых числа и выведите:\n",
    "    # a. Их сумму\n",
    "    # b. Их разность\n",
    "    # c. Произведение\n",
    "    # d. Результат деления первого на второе\n",
    "    # e. Остаток от деления первого на второе\n",
    "    # f. «True», если первое число больше или равно второму, иначе «False».\n",
    "\n",
    "num_3 = int(input(\"Task 4. number_1: \"))\n",
    "num_4 = int(input(\"number_2: \"))\n",
    "print(\"a. addition: \" + str(num_3 + num_4),\n",
    "      \"b. subtraction: \" + str(num_3 - num_4),\n",
    "      \"c. multiplication: \" + str(num_3 * num_4),\n",
    "      \"d. floor division: \" + str(num_3 // num_4),\n",
    "      \"e. modulus: \" + str(num_3 % num_4), sep='\\n')\n",
    "if num_3 >= num_4:\n",
    "    print(\"f. \" + str(bool(1)))\n",
    "else:\n",
    "    print(\"f. \" + str(bool(0)))"
   ]
  }
 ],
 "metadata": {
  "kernelspec": {
   "display_name": "Python 3 (ipykernel)",
   "language": "python",
   "name": "python3"
  },
  "language_info": {
   "codemirror_mode": {
    "name": "ipython",
    "version": 3
   },
   "file_extension": ".py",
   "mimetype": "text/x-python",
   "name": "python",
   "nbconvert_exporter": "python",
   "pygments_lexer": "ipython3",
   "version": "3.10.4"
  }
 },
 "nbformat": 4,
 "nbformat_minor": 5
}
